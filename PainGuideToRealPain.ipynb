{
  "nbformat": 4,
  "nbformat_minor": 0,
  "metadata": {
    "colab": {
      "provenance": [],
      "authorship_tag": "ABX9TyOh6+5eayveanhqNd3kv+aD",
      "include_colab_link": true
    },
    "kernelspec": {
      "name": "python3",
      "display_name": "Python 3"
    },
    "language_info": {
      "name": "python"
    }
  },
  "cells": [
    {
      "cell_type": "markdown",
      "metadata": {
        "id": "view-in-github",
        "colab_type": "text"
      },
      "source": [
        "<a href=\"https://colab.research.google.com/github/binhnguyenManagingLife/PainGuide/blob/main/PainGuideToRealPain.ipynb\" target=\"_parent\"><img src=\"https://colab.research.google.com/assets/colab-badge.svg\" alt=\"Open In Colab\"/></a>"
      ]
    },
    {
      "cell_type": "markdown",
      "source": [
        "# Overview\n",
        "- Convert excel raw content of Pain Guide into Markdowns\n",
        "- Extracting\n",
        "\n",
        "```\n",
        "Primary Title\n",
        "Secondary Title\n",
        "Content\n",
        "Deep URL\n",
        "```\n",
        "\n",
        "Assumptions:\n",
        "- Each file has to have headers with English in it\n",
        "- Each file needs to have Total number of articles in Overview sheet"
      ],
      "metadata": {
        "id": "dqaYnTN5kUDm"
      }
    },
    {
      "cell_type": "markdown",
      "source": [
        "Import libraries"
      ],
      "metadata": {
        "id": "jmK2xO2mllaX"
      }
    },
    {
      "cell_type": "code",
      "source": [
        "import pandas as pd\n",
        "import numpy as np\n",
        "import matplotlib.pyplot as plt\n",
        "import csv\n",
        "import matplotlib\n",
        "import random\n",
        "import copy"
      ],
      "metadata": {
        "id": "Z0yTk0JdlWQf"
      },
      "execution_count": 1,
      "outputs": []
    },
    {
      "cell_type": "markdown",
      "source": [
        "Connect GG drive"
      ],
      "metadata": {
        "id": "cLrJohgelWm0"
      }
    },
    {
      "cell_type": "code",
      "execution_count": 2,
      "metadata": {
        "colab": {
          "base_uri": "https://localhost:8080/"
        },
        "id": "GxjQ-pVRi-gO",
        "outputId": "42eeb0d2-8ec0-488d-d6ce-7e015c1aff97"
      },
      "outputs": [
        {
          "output_type": "stream",
          "name": "stdout",
          "text": [
            "Mounted at /content/gdrive/\n"
          ]
        }
      ],
      "source": [
        "import gspread\n",
        "from google.colab import auth\n",
        "from google.auth import default\n",
        "\n",
        "# Connect GG drive\n",
        "from google.colab import drive\n",
        "drive.mount('/content/gdrive/', force_remount=True)\n",
        "\n",
        "# Authenticate user\n",
        "auth.authenticate_user()\n",
        "\n",
        "# Get credentials and initialize gspread client\n",
        "creds, _ = default()\n",
        "gc = gspread.authorize(creds)\n",
        "\n",
        "# !pip install gspread pandas gspread_dataframe\n",
        "# !pip install --upgrade gspread google-auth google-auth-oauthlib pandas"
      ]
    },
    {
      "cell_type": "markdown",
      "source": [
        "# Load Datasets"
      ],
      "metadata": {
        "id": "ChDXmCnKlwh2"
      }
    },
    {
      "cell_type": "code",
      "source": [
        "# Function to read all of the sheet files in the spreadsheet\n",
        "\n",
        "def read_sheets (spreadsheet):\n",
        "\n",
        "  # Get all sheet names\n",
        "  sheet_names = [sheet.title for sheet in spreadsheet.worksheets()]\n",
        "\n",
        "  # Initialize a dictionary to store DataFrames for each sheet\n",
        "  sheets_data = {}\n",
        "\n",
        "  # Loop over each sheet, get the data, and store it in the dictionary\n",
        "  for sheet_name in sheet_names:\n",
        "      sheet = spreadsheet.worksheet(sheet_name)\n",
        "      data = sheet.get_all_records()  # Get all rows as a list of dictionaries\n",
        "      df = pd.DataFrame(data)         # Convert to pandas DataFrame\n",
        "      sheets_data[sheet_name] = df    # Store the DataFrame with sheet name as key\n",
        "\n",
        "  # # Display the DataFrame for each sheet\n",
        "  # for sheet_name, df in sheets_data.items():\n",
        "  #     print(f\"Sheet: {sheet_name}\")\n",
        "  #     print(df)\n",
        "\n",
        "  return (sheets_data,sheet_names)"
      ],
      "metadata": {
        "id": "1ixdPLw7lpHO"
      },
      "execution_count": 3,
      "outputs": []
    },
    {
      "cell_type": "code",
      "source": [
        "# Import respective data\n",
        "\n",
        "# file1 = '/content/gdrive/MyDrive/LLM /Knowledge Base Material/Pain Guide/Pain Guide Articles - Dec 22.gsheet'\n",
        "# file2 = '/content/gdrive/MyDrive/LLM /Knowledge Base Material/Pain Guide/Pain Guide Articles - Feb 26.gsheet'\n",
        "# file3 = '/content/gdrive/MyDrive/LLM /Knowledge Base Material/Pain Guide/Pain Guide Articles - Jun 3.gsheet'\n",
        "\n",
        "spreadsheet = gc.open(\"Pain Guide Articles - Dec 22\")\n",
        "sheets_data, sheet_names = read_sheets (spreadsheet)\n"
      ],
      "metadata": {
        "id": "S9P4FdCipAmP"
      },
      "execution_count": 4,
      "outputs": []
    },
    {
      "cell_type": "code",
      "source": [
        "# Find the number of articles per file\n",
        "df = sheets_data [sheet_names[0]]\n",
        "\n",
        "# Loop through rows in column 0 to find the number of articles per file\n",
        "for row in range (df.shape[0]):\n",
        "  col = 0\n",
        "  if 'Total articles:' in str(df.iloc[row,col]):\n",
        "     break\n",
        "\n",
        "# Find index of actual number\n",
        "n_articles = df.iloc[row, col+1]\n",
        "print (\"Total numner of articles in this excel sheet is %d\" %n_articles)\n",
        "\n",
        "# # Uncomment below to visualize\n",
        "# sheets_data[sheet_names[0]]"
      ],
      "metadata": {
        "colab": {
          "base_uri": "https://localhost:8080/"
        },
        "id": "Xu02g1Rrz_xW",
        "outputId": "9a18def9-1fd1-4375-f2f2-83f8dbc56954"
      },
      "execution_count": 5,
      "outputs": [
        {
          "output_type": "stream",
          "name": "stdout",
          "text": [
            "Total numner of articles in this excel sheet is 44\n"
          ]
        }
      ]
    },
    {
      "cell_type": "markdown",
      "source": [
        "# Extract and put into MarkDown Format"
      ],
      "metadata": {
        "id": "eUT6ure-2wLp"
      }
    },
    {
      "cell_type": "code",
      "source": [
        "df = sheets_data [sheet_names[12]]\n",
        "prim_title = df['English'][0]\n",
        "sec_title = df['English'][1]\n",
        "content = df['English'][2]"
      ],
      "metadata": {
        "id": "YR37oj6UyUhO"
      },
      "execution_count": 6,
      "outputs": []
    },
    {
      "cell_type": "code",
      "source": [
        "# Extract the relevant part of the DataFrame\n",
        "defn = df['English'][3:]\n",
        "\n",
        "# Display all text\n",
        "pd.set_option('display.max_colwidth', None)  # Show all text in columns\n",
        "pd.set_option('display.colheader_justify', 'left')  # Left-align column headers\n",
        "\n",
        "# Remove empty cells and reset index\n",
        "defn_cleaned = (defn[defn.str.strip() != ''].reset_index(drop=True)).to_string(index=False)\n",
        "\n"
      ],
      "metadata": {
        "id": "BzwkqrWL4zjR"
      },
      "execution_count": 7,
      "outputs": []
    },
    {
      "cell_type": "code",
      "source": [
        "article_text = (f\"# Primary title: {prim_title}\\n\\\n",
        "## Secondary title: {sec_title}\\n\\\n",
        "### Content: {content}\\n\\\n",
        "### Defintions\\n\\\n",
        "{defn_cleaned}\\n\")\n",
        "\n",
        "\n",
        "print (article_text)"
      ],
      "metadata": {
        "colab": {
          "base_uri": "https://localhost:8080/"
        },
        "id": "UjSH-lYk4X7m",
        "outputId": "b0b4a2f0-4a10-4c75-a3ae-1f9450b15720"
      },
      "execution_count": 8,
      "outputs": [
        {
          "output_type": "stream",
          "name": "stdout",
          "text": [
            "# Primary title: Find Your Optimal Activity Level\n",
            "## Secondary title: Improve your tolerance for regular physical activity to better cope with pain\n",
            "### Content: Consult with your doctor about the type of activity that you can do safely and that will be beneficial for you. Your activity regiment should be tailored to your specific pain condition.\n",
            "\n",
            "Keeping active is a helpful coping strategy for chronic pain. But when you live with pain, it can be hard to balance how much physical activity you do on a regular basis.\n",
            " \n",
            "On a good day, you may push too hard to get things done and cause a flare-up of pain. Then you don’t do any activity as you wait for the pain to go down. This pattern can feel like a roller coaster that derails your plans for staying active and keeping pain at bay. It’s called the “boom or bust” cycle.\n",
            "\n",
            "How can you find your optimal activity level?\n",
            " \n",
            "Your tolerance for physical activity can be reduced by pain from too much or too little physical activity. To expand your tolerance for regular activity, it’s important to pace your activity level and avoid overdoing it when you feel well.\n",
            " \n",
            "At the same time, it’s important to continue to do gentle activities even when you have pain. This will train your body to feel safe with movement even if the pain is there. Over time, your tolerance of physical activity will increase so that you can keep a regular routine. \n",
            "\n",
            "Source: \n",
            "Toronto Academic Pain Medicine Institute “Pain U Online”: https://tapmipain.ca/patient/managing-my-pain/pain-u-online/physical-activity.html\n",
            "### Defintions\n",
            "                                                                                                                                                                             Chronic Pain: Chronic pain refers to pain that lasts longer than 3 months.\n",
            "                                                                                                                                                            Flare-up: The term flare-up refers to a sudden increase in the intensity of pain symptoms. \n",
            "“Boom or bust” cycle: The “boom or bust” cycle refers to a repetitive pattern of activity levels often seen in people living with pain. On good days they try to do too much (boom), followed by bad days when they feel unable to do anything (bust). \n",
            "\n"
          ]
        }
      ]
    },
    {
      "cell_type": "code",
      "source": [
        "with open('/content/gdrive/MyDrive/Google Collab/Example.md', 'w') as writefile:\n",
        "    writefile.write(article_text)"
      ],
      "metadata": {
        "id": "rioM-duZ6Q29"
      },
      "execution_count": 9,
      "outputs": []
    },
    {
      "cell_type": "code",
      "source": [],
      "metadata": {
        "id": "oSDr1xVg6q0D"
      },
      "execution_count": 9,
      "outputs": []
    }
  ]
}