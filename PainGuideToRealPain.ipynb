{
  "nbformat": 4,
  "nbformat_minor": 0,
  "metadata": {
    "colab": {
      "provenance": [],
      "authorship_tag": "ABX9TyMVzN94RDsXNpK3ReUFKS+3",
      "include_colab_link": true
    },
    "kernelspec": {
      "name": "python3",
      "display_name": "Python 3"
    },
    "language_info": {
      "name": "python"
    }
  },
  "cells": [
    {
      "cell_type": "markdown",
      "metadata": {
        "id": "view-in-github",
        "colab_type": "text"
      },
      "source": [
        "<a href=\"https://colab.research.google.com/github/binhnguyenManagingLife/PainGuide/blob/main/PainGuideToRealPain.ipynb\" target=\"_parent\"><img src=\"https://colab.research.google.com/assets/colab-badge.svg\" alt=\"Open In Colab\"/></a>"
      ]
    },
    {
      "cell_type": "markdown",
      "source": [
        "# Overview\n",
        "- Convert excel raw content of Pain Guide into Markdowns\n",
        "- Extracting\n",
        "\n",
        "```\n",
        "Primary Title\n",
        "Secondary Title\n",
        "Content\n",
        "Deep URL\n",
        "```"
      ],
      "metadata": {
        "id": "dqaYnTN5kUDm"
      }
    },
    {
      "cell_type": "markdown",
      "source": [
        "Import libraries"
      ],
      "metadata": {
        "id": "jmK2xO2mllaX"
      }
    },
    {
      "cell_type": "code",
      "source": [
        "import pandas as pd\n",
        "import numpy as np\n",
        "import matplotlib.pyplot as plt\n",
        "import csv\n",
        "import matplotlib\n",
        "import random\n",
        "import copy\n",
        "\n",
        "import gspread\n",
        "from google.colab import auth\n",
        "from google.auth import default"
      ],
      "metadata": {
        "id": "Z0yTk0JdlWQf"
      },
      "execution_count": 1,
      "outputs": []
    },
    {
      "cell_type": "markdown",
      "source": [
        "Connect GG drive"
      ],
      "metadata": {
        "id": "cLrJohgelWm0"
      }
    },
    {
      "cell_type": "code",
      "execution_count": 4,
      "metadata": {
        "colab": {
          "base_uri": "https://localhost:8080/"
        },
        "id": "GxjQ-pVRi-gO",
        "outputId": "fe0ef4c5-8ae8-45cb-95ba-94aa85f7f88c"
      },
      "outputs": [
        {
          "output_type": "stream",
          "name": "stdout",
          "text": [
            "Mounted at /content/gdrive/\n"
          ]
        }
      ],
      "source": [
        "# Connect GG drive\n",
        "from google.colab import drive\n",
        "drive.mount('/content/gdrive/', force_remount=True)"
      ]
    },
    {
      "cell_type": "code",
      "source": [
        "# Authenticate user\n",
        "auth.authenticate_user()\n",
        "\n",
        "# Get credentials and initialize gspread client\n",
        "creds, _ = default()\n",
        "gc = gspread.authorize(creds)"
      ],
      "metadata": {
        "id": "DBgkJZF4spb0"
      },
      "execution_count": 3,
      "outputs": []
    },
    {
      "cell_type": "code",
      "source": [
        "# !pip install gspread pandas gspread_dataframe\n",
        "# !pip install --upgrade gspread google-auth google-auth-oauthlib pandas"
      ],
      "metadata": {
        "id": "eaX2ogWgpCa2"
      },
      "execution_count": 6,
      "outputs": []
    },
    {
      "cell_type": "markdown",
      "source": [
        "# Load Datasets"
      ],
      "metadata": {
        "id": "ChDXmCnKlwh2"
      }
    },
    {
      "cell_type": "code",
      "source": [
        "# Function to read all of the sheet files in the spreadsheet\n",
        "\n",
        "def read_sheets (spreadsheet):\n",
        "\n",
        "  # Get all sheet names\n",
        "  sheet_names = [sheet.title for sheet in spreadsheet.worksheets()]\n",
        "\n",
        "  # Initialize a dictionary to store DataFrames for each sheet\n",
        "  sheets_data = {}\n",
        "\n",
        "  # Loop over each sheet, get the data, and store it in the dictionary\n",
        "  for sheet_name in sheet_names:\n",
        "      sheet = spreadsheet.worksheet(sheet_name)\n",
        "      data = sheet.get_all_records()  # Get all rows as a list of dictionaries\n",
        "      df = pd.DataFrame(data)         # Convert to pandas DataFrame\n",
        "      sheets_data[sheet_name] = df    # Store the DataFrame with sheet name as key\n",
        "\n",
        "  # # Display the DataFrame for each sheet\n",
        "  # for sheet_name, df in sheets_data.items():\n",
        "  #     print(f\"Sheet: {sheet_name}\")\n",
        "  #     print(df)\n",
        "\n",
        "  return (sheets_data,sheet_names)"
      ],
      "metadata": {
        "id": "1ixdPLw7lpHO"
      },
      "execution_count": 30,
      "outputs": []
    },
    {
      "cell_type": "code",
      "source": [
        "# Import respective data\n",
        "\n",
        "# file1 = '/content/gdrive/MyDrive/LLM /Knowledge Base Material/Pain Guide/Pain Guide Articles - Dec 22.gsheet'\n",
        "# file2 = '/content/gdrive/MyDrive/LLM /Knowledge Base Material/Pain Guide/Pain Guide Articles - Feb 26.gsheet'\n",
        "# file3 = '/content/gdrive/MyDrive/LLM /Knowledge Base Material/Pain Guide/Pain Guide Articles - Jun 3.gsheet'\n",
        "\n",
        "spreadsheet = gc.open(\"Pain Guide Articles - Dec 22\")\n",
        "sheets_data, sheet_names = read_sheets (spreadsheet)\n"
      ],
      "metadata": {
        "id": "S9P4FdCipAmP"
      },
      "execution_count": 31,
      "outputs": []
    },
    {
      "cell_type": "code",
      "source": [
        "# Find the number of articles per file\n",
        "df = sheets_data [sheet_names[0]]\n",
        "\n",
        "# Loop through rows in column 0 to find the number of articles per file\n",
        "for row in range (df.shape[0]):\n",
        "  col = 0\n",
        "  if 'Total articles:' in str(df.iloc[row,col]):\n",
        "     break\n",
        "\n",
        "# Find index of actual number\n",
        "n_articles = df.iloc[row, col+1]\n",
        "print (\"Total numner of articles in this excel sheet is %d\" %n_articles)\n",
        "\n",
        "# # Uncomment below to visualize\n",
        "# sheets_data[sheet_names[0]]"
      ],
      "metadata": {
        "colab": {
          "base_uri": "https://localhost:8080/"
        },
        "id": "Xu02g1Rrz_xW",
        "outputId": "11b15efc-0d01-4d38-f4df-f8bfacc5aad0"
      },
      "execution_count": 50,
      "outputs": [
        {
          "output_type": "stream",
          "name": "stdout",
          "text": [
            "Total numner of articles in this excel sheet is 44\n"
          ]
        }
      ]
    },
    {
      "cell_type": "markdown",
      "source": [
        "# Extract and put into MarkDown Format"
      ],
      "metadata": {
        "id": "eUT6ure-2wLp"
      }
    },
    {
      "cell_type": "code",
      "source": [],
      "metadata": {
        "id": "YR37oj6UyUhO"
      },
      "execution_count": null,
      "outputs": []
    }
  ]
}