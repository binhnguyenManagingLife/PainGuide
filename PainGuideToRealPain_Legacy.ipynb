{
  "nbformat": 4,
  "nbformat_minor": 0,
  "metadata": {
    "colab": {
      "provenance": [],
      "authorship_tag": "ABX9TyPM4JowQW5IJ7p1GdLtRNRs",
      "include_colab_link": true
    },
    "kernelspec": {
      "name": "python3",
      "display_name": "Python 3"
    },
    "language_info": {
      "name": "python"
    }
  },
  "cells": [
    {
      "cell_type": "markdown",
      "metadata": {
        "id": "view-in-github",
        "colab_type": "text"
      },
      "source": [
        "<a href=\"https://colab.research.google.com/github/binhnguyenManagingLife/PainGuide/blob/main/PainGuideToRealPain_Legacy.ipynb\" target=\"_parent\"><img src=\"https://colab.research.google.com/assets/colab-badge.svg\" alt=\"Open In Colab\"/></a>"
      ]
    },
    {
      "cell_type": "markdown",
      "source": [
        "# Overview\n",
        "- Convert excel raw content of Pain Guide into Markdowns\n",
        "- Extracting\n",
        "\n",
        "```\n",
        "Primary Title\n",
        "Secondary Title\n",
        "Content\n",
        "Deep URL\n",
        "```\n",
        "\n",
        "Assumptions:\n",
        "- Each file has to have headers with English in it\n",
        "- Each file needs to have Total number of articles in Overview sheet"
      ],
      "metadata": {
        "id": "dqaYnTN5kUDm"
      }
    },
    {
      "cell_type": "markdown",
      "source": [
        "Import libraries"
      ],
      "metadata": {
        "id": "jmK2xO2mllaX"
      }
    },
    {
      "cell_type": "code",
      "source": [
        "import pandas as pd\n",
        "import numpy as np\n",
        "import matplotlib.pyplot as plt\n",
        "import csv\n",
        "import matplotlib\n",
        "import random\n",
        "import copy"
      ],
      "metadata": {
        "id": "Z0yTk0JdlWQf"
      },
      "execution_count": null,
      "outputs": []
    },
    {
      "cell_type": "markdown",
      "source": [
        "Connect GG drive"
      ],
      "metadata": {
        "id": "cLrJohgelWm0"
      }
    },
    {
      "cell_type": "code",
      "execution_count": null,
      "metadata": {
        "colab": {
          "base_uri": "https://localhost:8080/"
        },
        "id": "GxjQ-pVRi-gO",
        "outputId": "877aebd8-3e16-4d36-f981-9bfb43a313c3"
      },
      "outputs": [
        {
          "output_type": "stream",
          "name": "stdout",
          "text": [
            "Mounted at /content/gdrive/\n"
          ]
        }
      ],
      "source": [
        "import gspread\n",
        "from google.colab import auth\n",
        "from google.auth import default\n",
        "\n",
        "# Connect GG drive\n",
        "from google.colab import drive\n",
        "drive.mount('/content/gdrive/', force_remount=True)\n",
        "\n",
        "# Authenticate user\n",
        "auth.authenticate_user()\n",
        "\n",
        "# Get credentials and initialize gspread client\n",
        "creds, _ = default()\n",
        "gc = gspread.authorize(creds)\n",
        "\n",
        "# !pip install gspread pandas gspread_dataframe\n",
        "# !pip install --upgrade gspread google-auth google-auth-oauthlib pandas"
      ]
    },
    {
      "cell_type": "markdown",
      "source": [
        "# Load Datasets"
      ],
      "metadata": {
        "id": "ChDXmCnKlwh2"
      }
    },
    {
      "cell_type": "code",
      "source": [
        "# Function to read all of the sheet files in the spreadsheet\n",
        "\n",
        "def read_sheets (spreadsheet):\n",
        "\n",
        "  # Get all sheet names\n",
        "  sheet_names = [sheet.title for sheet in spreadsheet.worksheets()]\n",
        "\n",
        "  # Initialize a dictionary to store DataFrames for each sheet\n",
        "  sheets_data = {}\n",
        "\n",
        "  # Loop over each sheet, get the data, and store it in the dictionary\n",
        "  for sheet_name in sheet_names:\n",
        "      sheet = spreadsheet.worksheet(sheet_name)\n",
        "      data = sheet.get_all_records()  # Get all rows as a list of dictionaries\n",
        "      df = pd.DataFrame(data)         # Convert to pandas DataFrame\n",
        "      sheets_data[sheet_name] = df    # Store the DataFrame with sheet name as key\n",
        "\n",
        "  # # Display the DataFrame for each sheet\n",
        "  # for sheet_name, df in sheets_data.items():\n",
        "  #     print(f\"Sheet: {sheet_name}\")\n",
        "  #     print(df)\n",
        "\n",
        "  return (sheets_data,sheet_names)"
      ],
      "metadata": {
        "id": "1ixdPLw7lpHO"
      },
      "execution_count": null,
      "outputs": []
    },
    {
      "cell_type": "code",
      "source": [
        "# Import respective data\n",
        "\n",
        "# file1 = '/content/gdrive/MyDrive/LLM /Knowledge Base Material/Pain Guide/Pain Guide Articles - Dec 22.gsheet'\n",
        "# file2 = '/content/gdrive/MyDrive/LLM /Knowledge Base Material/Pain Guide/Pain Guide Articles - Feb 26.gsheet'\n",
        "# file3 = '/content/gdrive/MyDrive/LLM /Knowledge Base Material/Pain Guide/Pain Guide Articles - Jun 3.gsheet'\n",
        "\n",
        "spreadsheet = gc.open(\"Pain Guide Articles - Dec 22\")\n",
        "sheets_data, sheet_names = read_sheets (spreadsheet)\n"
      ],
      "metadata": {
        "id": "S9P4FdCipAmP"
      },
      "execution_count": null,
      "outputs": []
    },
    {
      "cell_type": "code",
      "source": [
        "# Find the number of articles per file\n",
        "df = sheets_data [sheet_names[0]]\n",
        "\n",
        "# Loop through rows in column 0 to find the number of articles per file\n",
        "for row in range (df.shape[0]):\n",
        "  col = 0\n",
        "  if 'Total articles:' in str(df.iloc[row,col]):\n",
        "     break\n",
        "\n",
        "# Find index of actual number\n",
        "n_articles = df.iloc[row, col+1]\n",
        "print (\"Total numner of articles in this excel sheet is %d\" %n_articles)\n",
        "\n",
        "# # Uncomment below to visualize\n",
        "# sheets_data[sheet_names[0]]"
      ],
      "metadata": {
        "colab": {
          "base_uri": "https://localhost:8080/"
        },
        "id": "Xu02g1Rrz_xW",
        "outputId": "50486ee8-9760-417e-d279-944e5d18f010"
      },
      "execution_count": null,
      "outputs": [
        {
          "output_type": "stream",
          "name": "stdout",
          "text": [
            "Total numner of articles in this excel sheet is 44\n"
          ]
        }
      ]
    },
    {
      "cell_type": "markdown",
      "source": [
        "# Extract and put into MarkDown Format"
      ],
      "metadata": {
        "id": "eUT6ure-2wLp"
      }
    },
    {
      "cell_type": "code",
      "source": [
        "df = sheets_data [sheet_names[12]]\n",
        "prim_title = df['English'][0]\n",
        "sec_title = df['English'][1]\n",
        "content = df['English'][2]\n",
        "\n",
        "defn_loc = 3 # This location is always at index 3\n",
        "defn = df['English'][defn_loc:]\n",
        "defn_len = len (defn[defn.str.strip() != ''])"
      ],
      "metadata": {
        "id": "YR37oj6UyUhO"
      },
      "execution_count": null,
      "outputs": []
    },
    {
      "cell_type": "code",
      "source": [
        "article_text = (f\"# Primary title: {prim_title}\\n\\\n",
        "## Secondary title: {sec_title}\\n\\\n",
        "### Content: {content}\\n\\\n",
        "### Defintions\\n\")\n",
        "\n",
        "print (article_text)\n",
        "\n",
        "for i in range (defn_loc,defn_loc+defn_len):\n",
        "  print (f\"{defn[i]}\\n\\n\")"
      ],
      "metadata": {
        "colab": {
          "base_uri": "https://localhost:8080/"
        },
        "id": "UjSH-lYk4X7m",
        "outputId": "baf7f75d-54ff-4e87-a16a-4695cf97832a"
      },
      "execution_count": null,
      "outputs": [
        {
          "output_type": "stream",
          "name": "stdout",
          "text": [
            "# Primary title: Find Your Optimal Activity Level\n",
            "## Secondary title: Improve your tolerance for regular physical activity to better cope with pain\n",
            "### Content: Consult with your doctor about the type of activity that you can do safely and that will be beneficial for you. Your activity regiment should be tailored to your specific pain condition.\n",
            "\n",
            "Keeping active is a helpful coping strategy for chronic pain. But when you live with pain, it can be hard to balance how much physical activity you do on a regular basis.\n",
            " \n",
            "On a good day, you may push too hard to get things done and cause a flare-up of pain. Then you don’t do any activity as you wait for the pain to go down. This pattern can feel like a roller coaster that derails your plans for staying active and keeping pain at bay. It’s called the “boom or bust” cycle.\n",
            "\n",
            "How can you find your optimal activity level?\n",
            " \n",
            "Your tolerance for physical activity can be reduced by pain from too much or too little physical activity. To expand your tolerance for regular activity, it’s important to pace your activity level and avoid overdoing it when you feel well.\n",
            " \n",
            "At the same time, it’s important to continue to do gentle activities even when you have pain. This will train your body to feel safe with movement even if the pain is there. Over time, your tolerance of physical activity will increase so that you can keep a regular routine. \n",
            "\n",
            "Source: \n",
            "Toronto Academic Pain Medicine Institute “Pain U Online”: https://tapmipain.ca/patient/managing-my-pain/pain-u-online/physical-activity.html\n",
            "### Defintions\n",
            "\n",
            "Chronic Pain: Chronic pain refers to pain that lasts longer than 3 months.\n",
            "\n",
            "\n",
            "Flare-up: The term flare-up refers to a sudden increase in the intensity of pain symptoms. \n",
            "\n",
            "\n",
            "“Boom or bust” cycle: The “boom or bust” cycle refers to a repetitive pattern of activity levels often seen in people living with pain. On good days they try to do too much (boom), followed by bad days when they feel unable to do anything (bust). \n",
            "\n",
            "\n"
          ]
        }
      ]
    },
    {
      "cell_type": "code",
      "source": [
        "with open('/content/gdrive/MyDrive/Google Collab/Example.md', 'w') as writefile:\n",
        "    writefile.write(article_text)\n",
        "\n",
        "for i in range (defn_loc,defn_loc+defn_len):\n",
        "  with open('/content/gdrive/MyDrive/Google Collab/Example.md', 'a') as writefile:\n",
        "    writefile.write(f\"{defn[i]}\\n\\n\")\n"
      ],
      "metadata": {
        "id": "rioM-duZ6Q29"
      },
      "execution_count": null,
      "outputs": []
    },
    {
      "cell_type": "markdown",
      "source": [
        "# Final Loop it through all of the sheets"
      ],
      "metadata": {
        "id": "CuT8Xf6AMnrq"
      }
    },
    {
      "cell_type": "code",
      "source": [
        "################################### Creating the file\n",
        "filename = 'PainGuideArticles1'\n",
        "path = '/content/gdrive/MyDrive/Google Collab/'+filename+'.md'\n",
        "with open(path, 'w') as writefile:\n",
        "  writefile.write('')\n",
        "\n",
        "################################### Load Data\n",
        "\n",
        "spreadsheet = gc.open(\"Pain Guide Articles - Dec 22\")\n",
        "sheets_data, sheet_names = read_sheets (spreadsheet)\n",
        "\n",
        "# Find the number of articles per file\n",
        "df = sheets_data [sheet_names[0]]\n",
        "print (\"File loaded successfully\")\n",
        "\n",
        "# Loop through rows in column 0 to find the number of articles per file\n",
        "for row in range (df.shape[0]):\n",
        "  col = 0\n",
        "  if 'Total articles:' in str(df.iloc[row,col]):\n",
        "     break\n",
        "\n",
        "# Find index of actual number\n",
        "n_articles = df.iloc[row, col+1]\n",
        "print (\"Total numner of articles in this excel sheet is %d\" %n_articles)\n",
        "\n",
        "################################### Loop through sheets to export into MD\n",
        "\n",
        "for i in range (1,n_articles+1):\n",
        "\n",
        "  # Loop through all of the sheets\n",
        "  df = sheets_data [sheet_names[i]]\n",
        "  print(f\"Analyzing Sheet {sheet_names[i]}\")\n",
        "\n",
        "  # Extract the semantic headings\n",
        "  prim_title = df['English'][0]\n",
        "  sec_title = df['English'][1]\n",
        "  content = df['English'][2]\n",
        "  defn_loc = 3 # This location is always at index 3\n",
        "  defn = df['English'][defn_loc:]\n",
        "  defn_len = len (defn[defn.str.strip() != ''])\n",
        "\n",
        "  # Preparing the right formatting and semantics of the markdown\n",
        "  article_text = (f\"# Primary title: {prim_title}\\n\\\n",
        "  ## Secondary title: {sec_title}\\n\\\n",
        "  ### Content: {content}\\n\\\n",
        "  ### Defintions\\n\")\n",
        "\n",
        "  with open(path, 'a') as writefile:\n",
        "    writefile.write(article_text)\n",
        "\n",
        "  for i in range (defn_loc,defn_loc+defn_len):\n",
        "    with open(path, 'a') as writefile:\n",
        "      writefile.write(f\"{defn[i]}\\n\\n\")\n",
        "  print (\"Written sucessfully\")\n"
      ],
      "metadata": {
        "colab": {
          "base_uri": "https://localhost:8080/"
        },
        "collapsed": true,
        "id": "oSDr1xVg6q0D",
        "outputId": "14d7d024-189d-4382-9890-50e0b3adc3ee"
      },
      "execution_count": null,
      "outputs": [
        {
          "output_type": "stream",
          "name": "stdout",
          "text": [
            "File loaded successfully\n",
            "Total numner of articles in this excel sheet is 44\n",
            "Analyzing Sheet ✅ Is Your Pain Acute or Chronic?\n",
            "Written sucessfully\n",
            "Analyzing Sheet ✅ Acute vs. Chronic Pain\n",
            "Written sucessfully\n",
            "Analyzing Sheet ✅ Pain Changes Your Nervous System\n",
            "Written sucessfully\n",
            "Analyzing Sheet ✅ Why Does Pain Have Different Characteristics?\n",
            "Written sucessfully\n",
            "Analyzing Sheet ✅ Characteristics as Clues to Your Pain\n",
            "Written sucessfully\n",
            "Analyzing Sheet ✅ Putting Pain into Words\n",
            "Written sucessfully\n",
            "Analyzing Sheet ✅ Learn About Dull Pain\n",
            "Written sucessfully\n",
            "Analyzing Sheet ✅ Understand Throbbing Pain\n",
            "Written sucessfully\n",
            "Analyzing Sheet ✅ Learn About Sharp Pain\n",
            "Written sucessfully\n",
            "Analyzing Sheet ✅ The Benefits of Gentle Movement\n",
            "Written sucessfully\n",
            "Analyzing Sheet ✅ How to Exercise Safely\n",
            "Written sucessfully\n",
            "Analyzing Sheet ✅ Find Your Optimal Activity Level\n",
            "Written sucessfully\n",
            "Analyzing Sheet ✅ Is Coping a Bad Word?\n",
            "Written sucessfully\n",
            "Analyzing Sheet ✅ Different Ways of Coping\n",
            "Written sucessfully\n",
            "Analyzing Sheet ✅ In What Ways Do You Cope?\n",
            "Written sucessfully\n",
            "Analyzing Sheet ✅ How to Evaluate Your Coping Strategies\n",
            "Written sucessfully\n",
            "Analyzing Sheet ✅ Coping with Alarm-Raising Thoughts About Pain\n",
            "Written sucessfully\n",
            "Analyzing Sheet ✅ Your Flare-up Aid Kit\n",
            "Written sucessfully\n",
            "Analyzing Sheet ✅ Tracking Flare-up Warning Signs\n",
            "Written sucessfully\n",
            "Analyzing Sheet ✅ Managing Stress Helps with Pain\n",
            "Written sucessfully\n",
            "Analyzing Sheet ✅ The Benefits of Pacing\n",
            "Written sucessfully\n",
            "Analyzing Sheet ✅ Activity Shifting\n",
            "Written sucessfully\n",
            "Analyzing Sheet ✅ Scheduling Activities by Time of Day\n",
            "Written sucessfully\n",
            "Analyzing Sheet ✅ Setting Up for a Good Night’s Sleep\n",
            "Written sucessfully\n",
            "Analyzing Sheet ✅ Coping Thoughts to Help you Sleep\n",
            "Written sucessfully\n",
            "Analyzing Sheet ✅ Relaxing to Sleep Routine\n",
            "Written sucessfully\n",
            "Analyzing Sheet ✅ Do You Have a Self-Management Plan for Pain?\n",
            "Written sucessfully\n",
            "Analyzing Sheet ✅ What is a Meaningful Activity?\n",
            "Written sucessfully\n",
            "Analyzing Sheet ✅ Living Your Values\n",
            "Written sucessfully\n",
            "Analyzing Sheet ✅ Coping through Self-Compassion\n",
            "Written sucessfully\n",
            "Analyzing Sheet ✅ Work Towards Your Goals the SMART Way\n",
            "Written sucessfully\n",
            "Analyzing Sheet ✅ How Can Breathing Help with Pain?\n",
            "Written sucessfully\n",
            "Analyzing Sheet ✅ The Breathing Method for Pain\n",
            "Written sucessfully\n",
            "Analyzing Sheet ✅ The Modern Approach to Pain Treatment\n",
            "Written sucessfully\n",
            "Analyzing Sheet ✅ Navigating Medical Treatments\n",
            "Written sucessfully\n",
            "Analyzing Sheet ✅ Effective Pain Treatment Takes a Team Approach\n",
            "Written sucessfully\n",
            "Analyzing Sheet ✅ Why See a Psychologist for Pain?\n",
            "Written sucessfully\n",
            "Analyzing Sheet ✅ Why See a Physical Therapist for Pain?\n",
            "Written sucessfully\n",
            "Analyzing Sheet ✅ Become a Partner in your Pain Treatment\n",
            "Written sucessfully\n",
            "Analyzing Sheet ✅ Meet Mariana: Learning to Cope with Chronic Pain\n",
            "Written sucessfully\n",
            "Analyzing Sheet ✅ Meet Richard: Taking Control of his Chronic Pain\n",
            "Written sucessfully\n",
            "Analyzing Sheet ✅ Meet Janice: From Shoulder Injury to Cockatoo Savior\n",
            "Written sucessfully\n",
            "Analyzing Sheet ✅ Meet Karen: How a Fish Changed My Life\n",
            "Written sucessfully\n",
            "Analyzing Sheet ✅ Meet Cindy: Coming to Terms with Pain\n",
            "Written sucessfully\n"
          ]
        }
      ]
    },
    {
      "cell_type": "code",
      "source": [
        "################################### Creating the file\n",
        "filename = 'PainGuideArticles2'\n",
        "path = '/content/gdrive/MyDrive/Google Collab/'+filename+'.md'\n",
        "with open(path, 'w') as writefile:\n",
        "  writefile.write('')\n",
        "\n",
        "################################### Load Data\n",
        "\n",
        "spreadsheet = gc.open(\"Pain Guide Articles - Feb 26\")\n",
        "sheets_data, sheet_names = read_sheets (spreadsheet)\n",
        "\n",
        "# Find the number of articles per file\n",
        "df = sheets_data [sheet_names[0]]\n",
        "print (\"File loaded successfully\")\n",
        "\n",
        "# Loop through rows in column 0 to find the number of articles per file\n",
        "for row in range (df.shape[0]):\n",
        "  col = 0\n",
        "  if 'Total articles:' in str(df.iloc[row,col]):\n",
        "     break\n",
        "\n",
        "# Find index of actual number\n",
        "n_articles = df.iloc[row, col+1]\n",
        "print (\"Total numner of articles in this excel sheet is %d\" %n_articles)\n",
        "\n",
        "################################### Loop through sheets to export into MD\n",
        "\n",
        "for i in range (1,n_articles+1):\n",
        "\n",
        "  # Loop through all of the sheets\n",
        "  df = sheets_data [sheet_names[i]]\n",
        "  print(f\"Analyzing Sheet {sheet_names[i]}\")\n",
        "\n",
        "  # Extract the semantic headings\n",
        "  prim_title = df['English'][0]\n",
        "  sec_title = df['English'][1]\n",
        "  content = df['English'][2]\n",
        "  defn_loc = 3 # This location is always at index 3\n",
        "  defn = df['English'][defn_loc:]\n",
        "  defn_len = len (defn[defn.str.strip() != ''])\n",
        "\n",
        "  # Preparing the right formatting and semantics of the markdown\n",
        "  article_text = (f\"# Primary title: {prim_title}\\n\\\n",
        "  ## Secondary title: {sec_title}\\n\\\n",
        "  ### Content: {content}\\n\\\n",
        "  ### Defintions\\n\")\n",
        "\n",
        "  with open(path, 'a') as writefile:\n",
        "    writefile.write(article_text)\n",
        "\n",
        "  for i in range (defn_loc,defn_loc+defn_len):\n",
        "    with open(path, 'a') as writefile:\n",
        "      writefile.write(f\"{defn[i]}\\n\\n\")\n",
        "  print (\"Written sucessfully\")\n"
      ],
      "metadata": {
        "colab": {
          "base_uri": "https://localhost:8080/"
        },
        "id": "6f5RxwuTMttX",
        "outputId": "a814e3f9-5339-4cd1-cd5a-b329d6422179"
      },
      "execution_count": null,
      "outputs": [
        {
          "output_type": "stream",
          "name": "stdout",
          "text": [
            "File loaded successfully\n",
            "Total numner of articles in this excel sheet is 8\n",
            "Analyzing Sheet Pain After Surgery: What to Expect\n",
            "Written sucessfully\n",
            "Analyzing Sheet Preparing to Manage Pain After Surgery\n",
            "Written sucessfully\n",
            "Analyzing Sheet Why Pain Can Persist After Surgery\n",
            "Written sucessfully\n",
            "Analyzing Sheet How to Reduce your Risk of Ongoing Pain After Surgery\n",
            "Written sucessfully\n",
            "Analyzing Sheet How do you know you’re ready for more?\n",
            "Written sucessfully\n",
            "Analyzing Sheet Sleep and Pain\n",
            "Written sucessfully\n",
            "Analyzing Sheet Sleep Health-Self Assessment\n",
            "Written sucessfully\n",
            "Analyzing Sheet Goal-Setting to Improve How You Feel\n",
            "Written sucessfully\n"
          ]
        }
      ]
    },
    {
      "cell_type": "code",
      "source": [
        "################################### Creating the file\n",
        "filename = 'PainGuideArticles3'\n",
        "path = '/content/gdrive/MyDrive/Google Collab/'+filename+'.md'\n",
        "with open(path, 'w') as writefile:\n",
        "  writefile.write('')\n",
        "\n",
        "################################### Load Data\n",
        "\n",
        "spreadsheet = gc.open(\"Pain Guide Articles - Jun 3\")\n",
        "sheets_data, sheet_names = read_sheets (spreadsheet)\n",
        "\n",
        "# Find the number of articles per file\n",
        "df = sheets_data [sheet_names[0]]\n",
        "print (\"File loaded successfully\")\n",
        "\n",
        "# Loop through rows in column 0 to find the number of articles per file\n",
        "for row in range (df.shape[0]):\n",
        "  col = 0\n",
        "  if 'Total articles:' in str(df.iloc[row,col]):\n",
        "     break\n",
        "\n",
        "# Find index of actual number\n",
        "n_articles = df.iloc[row, col+1]\n",
        "print (\"Total numner of articles in this excel sheet is %d\" %n_articles)\n",
        "\n",
        "################################### Loop through sheets to export into MD\n",
        "\n",
        "for i in range (1,n_articles+1):\n",
        "\n",
        "  # Loop through all of the sheets\n",
        "  df = sheets_data [sheet_names[i]]\n",
        "  print(f\"Analyzing Sheet {sheet_names[i]}\")\n",
        "\n",
        "  # Extract the semantic headings\n",
        "  prim_title = df['English'][0]\n",
        "  sec_title = df['English'][1]\n",
        "  content = df['English'][2]\n",
        "  defn_loc = 3 # This location is always at index 3\n",
        "  defn = df['English'][defn_loc:]\n",
        "  defn_len = len (defn[defn.str.strip() != ''])\n",
        "\n",
        "  # Preparing the right formatting and semantics of the markdown\n",
        "  article_text = (f\"# Primary title: {prim_title}\\n\\\n",
        "  ## Secondary title: {sec_title}\\n\\\n",
        "  ### Content: {content}\\n\\\n",
        "  ### Defintions\\n\")\n",
        "\n",
        "  with open(path, 'a') as writefile:\n",
        "    writefile.write(article_text)\n",
        "\n",
        "  for i in range (defn_loc,defn_loc+defn_len):\n",
        "    with open(path, 'a') as writefile:\n",
        "      writefile.write(f\"{defn[i]}\\n\\n\")\n",
        "  print (\"Written sucessfully\")\n"
      ],
      "metadata": {
        "colab": {
          "base_uri": "https://localhost:8080/"
        },
        "id": "wGg0QFJDV8rK",
        "outputId": "96b35b40-23e1-4f5d-b8ae-a58110d99635"
      },
      "execution_count": null,
      "outputs": [
        {
          "output_type": "stream",
          "name": "stdout",
          "text": [
            "File loaded successfully\n",
            "Total numner of articles in this excel sheet is 3\n",
            "Analyzing Sheet Managing Anxiety Before Surgery\n",
            "Written sucessfully\n",
            "Analyzing Sheet Understanding Anxiety Before Surgery\n",
            "Written sucessfully\n",
            "Analyzing Sheet Preparing Ahead for Surgery\n",
            "Written sucessfully\n"
          ]
        }
      ]
    },
    {
      "cell_type": "code",
      "source": [],
      "metadata": {
        "id": "K_YOi6UAWKyh"
      },
      "execution_count": null,
      "outputs": []
    }
  ]
}